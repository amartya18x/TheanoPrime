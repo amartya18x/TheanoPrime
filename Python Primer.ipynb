{
 "cells": [
  {
   "cell_type": "markdown",
   "metadata": {
    "slideshow": {
     "slide_type": "slide"
    }
   },
   "source": [
    "# Python"
   ]
  },
  {
   "cell_type": "markdown",
   "metadata": {},
   "source": [
    "## Lists and Tuples"
   ]
  },
  {
   "cell_type": "markdown",
   "metadata": {
    "slideshow": {
     "slide_type": "fragment"
    }
   },
   "source": [
    "### Indexing into list"
   ]
  },
  {
   "cell_type": "code",
   "execution_count": 1,
   "metadata": {
    "collapsed": false,
    "slideshow": {
     "slide_type": "fragment"
    }
   },
   "outputs": [
    {
     "data": {
      "text/plain": [
       "2"
      ]
     },
     "execution_count": 1,
     "metadata": {},
     "output_type": "execute_result"
    }
   ],
   "source": [
    "l = [1, 2, 3] # make a list\n",
    "\n",
    "l[1] # index into it\n"
   ]
  },
  {
   "cell_type": "markdown",
   "metadata": {},
   "source": [
    "### Appending to a list"
   ]
  },
  {
   "cell_type": "code",
   "execution_count": 2,
   "metadata": {
    "collapsed": false
   },
   "outputs": [
    {
     "data": {
      "text/plain": [
       "[1, 2, 3, 4]"
      ]
     },
     "execution_count": 2,
     "metadata": {},
     "output_type": "execute_result"
    }
   ],
   "source": [
    "l.append(4) # add to it \n",
    "l\n"
   ]
  },
  {
   "cell_type": "markdown",
   "metadata": {},
   "source": [
    "### Deleting an element"
   ]
  },
  {
   "cell_type": "code",
   "execution_count": 3,
   "metadata": {
    "collapsed": false
   },
   "outputs": [
    {
     "data": {
      "text/plain": [
       "[1, 3, 4]"
      ]
     },
     "execution_count": 3,
     "metadata": {},
     "output_type": "execute_result"
    }
   ],
   "source": [
    "del l[1] \n",
    "l"
   ]
  },
  {
   "cell_type": "markdown",
   "metadata": {},
   "source": [
    "### Inserting an element"
   ]
  },
  {
   "cell_type": "code",
   "execution_count": 4,
   "metadata": {
    "collapsed": false
   },
   "outputs": [
    {
     "data": {
      "text/plain": [
       "[1, 3, 3, 4]"
      ]
     },
     "execution_count": 4,
     "metadata": {},
     "output_type": "execute_result"
    }
   ],
   "source": [
    "l.insert(1, 3) # insert into it\n",
    "l"
   ]
  },
  {
   "cell_type": "markdown",
   "metadata": {},
   "source": [
    "### Tuples"
   ]
  },
  {
   "cell_type": "code",
   "execution_count": 5,
   "metadata": {
    "collapsed": false
   },
   "outputs": [
    {
     "data": {
      "text/plain": [
       "False"
      ]
     },
     "execution_count": 5,
     "metadata": {},
     "output_type": "execute_result"
    }
   ],
   "source": [
    "t = (1, 3, 3, 4) # make a tuple\n",
    "\n",
    "l == t"
   ]
  },
  {
   "cell_type": "markdown",
   "metadata": {},
   "source": [
    "### List to Tuple"
   ]
  },
  {
   "cell_type": "code",
   "execution_count": 6,
   "metadata": {
    "collapsed": false
   },
   "outputs": [
    {
     "data": {
      "text/plain": [
       "True"
      ]
     },
     "execution_count": 6,
     "metadata": {},
     "output_type": "execute_result"
    }
   ],
   "source": [
    "t2 = tuple(l)\n",
    "t2 == t"
   ]
  },
  {
   "cell_type": "markdown",
   "metadata": {
    "collapsed": true
   },
   "source": [
    "## Dictionaries"
   ]
  },
  {
   "cell_type": "code",
   "execution_count": 7,
   "metadata": {
    "collapsed": false
   },
   "outputs": [
    {
     "data": {
      "text/plain": [
       "{1: 2, '1': '2', 'one': 'two'}"
      ]
     },
     "execution_count": 7,
     "metadata": {},
     "output_type": "execute_result"
    }
   ],
   "source": [
    "Dict = {}\n",
    "Dict[1] = 2\n",
    "Dict['one'] = 'two'\n",
    "Dict['1'] = '2'\n",
    "Dict"
   ]
  },
  {
   "cell_type": "markdown",
   "metadata": {},
   "source": [
    "### Keys in Dictionary"
   ]
  },
  {
   "cell_type": "code",
   "execution_count": 8,
   "metadata": {
    "collapsed": false
   },
   "outputs": [
    {
     "name": "stdout",
     "output_type": "stream",
     "text": [
      "Dictionary keys\n",
      "['1', 1, 'one']\n",
      "\n",
      "Value at 1 :\n",
      "2\n",
      "\n",
      "Value at one\n",
      "two\n",
      "\n",
      "Value at 1\n",
      "2\n",
      "\n",
      "Iterate over keys\n",
      "1\n",
      "1\n",
      "one\n",
      "\n",
      "Delete key : 1\n",
      "{'1': '2', 'one': 'two'}\n"
     ]
    }
   ],
   "source": [
    "print \"Dictionary keys\"\n",
    "print Dict.keys()\n",
    "\n",
    "print \"\\nValue at 1 :\"\n",
    "print Dict['1']\n",
    "\n",
    "print \"\\nValue at one\"\n",
    "print Dict['one']\n",
    "\n",
    "\n",
    "one = 1\n",
    "print \"\\nValue at 1\"\n",
    "print Dict[one]\n",
    "\n",
    "print \"\\nIterate over keys\"\n",
    "for key in Dict.keys():\n",
    "    print key\n",
    "\n",
    "print \"\\nDelete key : 1\"\n",
    "del Dict[1]\n",
    "print Dict"
   ]
  },
  {
   "cell_type": "markdown",
   "metadata": {},
   "source": [
    "# Classes and Function"
   ]
  },
  {
   "cell_type": "markdown",
   "metadata": {},
   "source": [
    "## Functions"
   ]
  },
  {
   "cell_type": "code",
   "execution_count": 9,
   "metadata": {
    "collapsed": false
   },
   "outputs": [
    {
     "name": "stdout",
     "output_type": "stream",
     "text": [
      "Lets print a:\n",
      "2\n",
      "\n",
      "Lets print a + b\n",
      "5\n",
      "\n",
      " So you can pass the return of a function to another function just like everywhere. \n",
      " Lets take it another step further \n",
      "25\n"
     ]
    }
   ],
   "source": [
    "def printer(x):\n",
    "    print x\n",
    "\n",
    "def adder(x,y):\n",
    "    return x+y\n",
    "\n",
    "def square(x):\n",
    "    return x**2\n",
    "\n",
    "a = 2\n",
    "b = 3\n",
    "print \"Lets print a:\"\n",
    "printer(a)\n",
    "print \"\\nLets print a + b\"\n",
    "printer(adder(a,b))\n",
    "print \"\\n So you can pass the return of a function to another function just like everywhere. \\n Lets take it another step further \"\n",
    "printer(square(adder(a,b)))"
   ]
  },
  {
   "cell_type": "markdown",
   "metadata": {},
   "source": [
    "## Classes"
   ]
  },
  {
   "cell_type": "code",
   "execution_count": 10,
   "metadata": {
    "collapsed": true
   },
   "outputs": [],
   "source": [
    "class student(object):\n",
    "    \n",
    "    def __init__(self,name = None ,age = None):\n",
    "        if name == None:\n",
    "            self.name = \"Amartya\"\n",
    "        else:\n",
    "            self.name = name\n",
    "        \n",
    "        if age == None:   \n",
    "            self.age = 20\n",
    "        else:\n",
    "            self.age = age\n",
    "    \n",
    "    def update_name(self,name):\n",
    "        self.name = name\n",
    "    \n",
    "    def update_age(self,age):\n",
    "        self.age = age\n",
    "    \n",
    "    def inc_age(self):\n",
    "        self.age = self.age + 1\n",
    "    \n",
    "    def return_info(self):\n",
    "        temp = [self.name, self.age]\n",
    "        return temp\n"
   ]
  },
  {
   "cell_type": "code",
   "execution_count": 11,
   "metadata": {
    "collapsed": false
   },
   "outputs": [
    {
     "name": "stdout",
     "output_type": "stream",
     "text": [
      "Amartya:\n",
      "{'age': 20, 'name': 'Amartya'}\n",
      "\n",
      "Bhuvesh:\n",
      "{'age': 21, 'name': 'Bhuvesh'}\n",
      "\n",
      "Incrementing Bhuvesh's age\n",
      "{'age': 22, 'name': 'Bhuvesh'}\n",
      "\n",
      "Make Amartya  a baby\n",
      "{'age': 1, 'name': 'Amartya'}\n",
      "\n",
      "A list of attributes of Amartya(Just to show what lists are)\n",
      "['Amartya', 1]\n"
     ]
    }
   ],
   "source": [
    "Amartya = student()\n",
    "print\"Amartya:\"\n",
    "print vars(Amartya)\n",
    "\n",
    "Bhuvesh = student(\"Bhuvesh\", 21)\n",
    "\n",
    "print \"\\nBhuvesh:\"\n",
    "print vars(Bhuvesh)\n",
    "\n",
    "print \"\\nIncrementing Bhuvesh's age\"\n",
    "Bhuvesh.inc_age()\n",
    "print vars(Bhuvesh)\n",
    "\n",
    "print \"\\nMake Amartya  a baby\"\n",
    "Amartya.update_age(1)\n",
    "print vars(Amartya)\n",
    "\n",
    "print \"\\nA list of attributes of Amartya(Just to show what lists are)\"\n",
    "print Amartya.return_info()"
   ]
  },
  {
   "cell_type": "markdown",
   "metadata": {},
   "source": [
    "# Exceptions"
   ]
  },
  {
   "cell_type": "code",
   "execution_count": 12,
   "metadata": {
    "collapsed": false
   },
   "outputs": [
    {
     "name": "stdout",
     "output_type": "stream",
     "text": [
      "Adding 2 and 3\n",
      "5\n",
      "\n",
      "Adding 'Amartya' and 'Bhuvesh'\n",
      "amartyabhuvesh\n",
      "\n",
      "But say we want to practical and only add numbers , not people.\n",
      "\n",
      "Adding 'Amartya' and 'Bhuvesh'\n",
      "Error!! Error!! You cant add people\n",
      "\n",
      "None\n"
     ]
    }
   ],
   "source": [
    "print \"Adding 2 and 3\"\n",
    "printer(adder(2,3))\n",
    "\n",
    "print \"\\nAdding 'Amartya' and 'Bhuvesh'\"\n",
    "printer(adder(\"amartya\",\"bhuvesh\"))\n",
    "\n",
    "print \"\\nBut say we want to practical and only add numbers , not people.\"\n",
    "\n",
    "def adder(x,y):\n",
    "    try:\n",
    "        if type(x) != 'int' or type(x) != 'float' or type(y) != 'int' or type(y) != 'float':\n",
    "            raise ValueError()\n",
    "        else:\n",
    "            return x+y\n",
    "    except ValueError:\n",
    "        print \"Error!! Error!! You cant add people\\n\"\n",
    "\n",
    "print \"\\nAdding 'Amartya' and 'Bhuvesh'\"\n",
    "printer(adder(\"amartya\",\"bhuvesh\"))\n"
   ]
  },
  {
   "cell_type": "markdown",
   "metadata": {},
   "source": [
    "# Starting Numpy"
   ]
  },
  {
   "cell_type": "code",
   "execution_count": 13,
   "metadata": {
    "collapsed": true
   },
   "outputs": [],
   "source": [
    "import numpy as np #Please don't forget this"
   ]
  },
  {
   "cell_type": "markdown",
   "metadata": {},
   "source": [
    "## Basic types of arrays and matrices"
   ]
  },
  {
   "cell_type": "markdown",
   "metadata": {},
   "source": [
    "### Zero Array and Zero Matrix"
   ]
  },
  {
   "cell_type": "code",
   "execution_count": 14,
   "metadata": {
    "collapsed": false
   },
   "outputs": [
    {
     "name": "stdout",
     "output_type": "stream",
     "text": [
      "Zero Array\n",
      "[ 0.  0.  0.  0.  0.]\n",
      "\n",
      "Zero Matrix:\n",
      "[[ 0.  0.  0.  0.  0.  0.  0.  0.  0.  0.]\n",
      " [ 0.  0.  0.  0.  0.  0.  0.  0.  0.  0.]\n",
      " [ 0.  0.  0.  0.  0.  0.  0.  0.  0.  0.]\n",
      " [ 0.  0.  0.  0.  0.  0.  0.  0.  0.  0.]\n",
      " [ 0.  0.  0.  0.  0.  0.  0.  0.  0.  0.]]\n"
     ]
    }
   ],
   "source": [
    "zeroArray = np.zeros(5)\n",
    "print \"Zero Array\"\n",
    "print zeroArray\n",
    "print \"\\nZero Matrix:\"\n",
    "zeroArray = np.zeros([5,10])\n",
    "print zeroArray"
   ]
  },
  {
   "cell_type": "markdown",
   "metadata": {},
   "source": [
    "### Ones array and Ones Matrix"
   ]
  },
  {
   "cell_type": "code",
   "execution_count": 15,
   "metadata": {
    "collapsed": false
   },
   "outputs": [
    {
     "name": "stdout",
     "output_type": "stream",
     "text": [
      "Ones Array\n",
      "[ 1.  1.  1.  1.  1.]\n",
      "\n",
      "Ones Matrix:\n",
      "[[ 1.  1.  1.  1.  1.  1.  1.  1.  1.  1.]\n",
      " [ 1.  1.  1.  1.  1.  1.  1.  1.  1.  1.]\n",
      " [ 1.  1.  1.  1.  1.  1.  1.  1.  1.  1.]\n",
      " [ 1.  1.  1.  1.  1.  1.  1.  1.  1.  1.]\n",
      " [ 1.  1.  1.  1.  1.  1.  1.  1.  1.  1.]]\n"
     ]
    }
   ],
   "source": [
    "oneArray = np.ones(5)\n",
    "print \"Ones Array\"\n",
    "print oneArray\n",
    "print \"\\nOnes Matrix:\"\n",
    "oneArray = np.ones([5,10])\n",
    "print oneArray"
   ]
  },
  {
   "cell_type": "markdown",
   "metadata": {},
   "source": [
    "### Identity Matrix"
   ]
  },
  {
   "cell_type": "code",
   "execution_count": 16,
   "metadata": {
    "collapsed": false
   },
   "outputs": [
    {
     "name": "stdout",
     "output_type": "stream",
     "text": [
      "Identity Matrix\n",
      "[[ 1.  0.  0.  0.  0.]\n",
      " [ 0.  1.  0.  0.  0.]\n",
      " [ 0.  0.  1.  0.  0.]\n",
      " [ 0.  0.  0.  1.  0.]\n",
      " [ 0.  0.  0.  0.  1.]]\n"
     ]
    }
   ],
   "source": [
    "I = np.identity(5)\n",
    "print \"Identity Matrix\"\n",
    "print I\n"
   ]
  },
  {
   "cell_type": "markdown",
   "metadata": {},
   "source": [
    "### Basic vector stuff"
   ]
  },
  {
   "cell_type": "code",
   "execution_count": 17,
   "metadata": {
    "collapsed": false
   },
   "outputs": [],
   "source": [
    "A = [1, 2, 3]\n",
    "B = np.asarray(A)\n",
    "C = [4,5,6]\n",
    "D = np.asarray(C)"
   ]
  },
  {
   "cell_type": "code",
   "execution_count": 18,
   "metadata": {
    "collapsed": false
   },
   "outputs": [
    {
     "name": "stdout",
     "output_type": "stream",
     "text": [
      "Elementwise Multiplication\n",
      "[ 4 10 18]\n",
      "\n",
      "Elementwise Addition\n",
      "[5 7 9]\n",
      "\n",
      " Dot Product\n",
      "32\n"
     ]
    }
   ],
   "source": [
    "print \"Elementwise Multiplication\"\n",
    "print B*D\n",
    "print \"\\nElementwise Addition\"\n",
    "print B+D\n",
    "print \"\\n Dot Product\"\n",
    "print np.dot(B,D)"
   ]
  },
  {
   "cell_type": "code",
   "execution_count": 19,
   "metadata": {
    "collapsed": false
   },
   "outputs": [
    {
     "name": "stdout",
     "output_type": "stream",
     "text": [
      "Lets square each element in the array\n",
      "[16, 25, 36]\n",
      "\n",
      " Lets do some more complicated function\n",
      "[3.2104019955684011, 3.7865663081964716, 4.3240771252638117]\n"
     ]
    }
   ],
   "source": [
    "print \"Lets square each element in the array\"\n",
    "print [x**2 for x in C]\n",
    "print \"\\n Lets do some more complicated function\"\n",
    "\n",
    "def updateX(x):\n",
    "    x = x + 2\n",
    "    x = np.log(x)\n",
    "    x = np.power(x,2)\n",
    "    return x\n",
    "\n",
    "print [updateX(x) for x in C]\n"
   ]
  },
  {
   "cell_type": "markdown",
   "metadata": {},
   "source": [
    "### Useful stuffs that make your life easy when coding stuffs."
   ]
  },
  {
   "cell_type": "code",
   "execution_count": 20,
   "metadata": {
    "collapsed": false
   },
   "outputs": [
    {
     "name": "stdout",
     "output_type": "stream",
     "text": [
      "Createing an array of numbers from 1 to 9\n",
      "[1 2 3 4 5 6 7 8 9]\n",
      "\n",
      " Reshape an array to matrix\n",
      "[[1 2 3]\n",
      " [4 5 6]\n",
      " [7 8 9]]\n",
      "\n",
      " Transpose the matrix\n",
      "[[1 4 7]\n",
      " [2 5 8]\n",
      " [3 6 9]]\n",
      "\n",
      " Make elements less than 5 0\n",
      "[[0 0 7]\n",
      " [0 5 8]\n",
      " [0 6 9]]\n"
     ]
    }
   ],
   "source": [
    "print \"Createing an array of numbers from 1 to 9\"\n",
    "A = np.arange(1,10)\n",
    "print A\n",
    "\n",
    "print \"\\n Reshape an array to matrix\"\n",
    "B = np.reshape(A,[3,3])\n",
    "print B\n",
    "\n",
    "print \"\\n Transpose the matrix\"\n",
    "C = np.transpose(B)\n",
    "print C\n",
    "\n",
    "print \"\\n Make elements less than 5 0\"\n",
    "C[C<5] = 0\n",
    "print C\n",
    "\n"
   ]
  },
  {
   "cell_type": "code",
   "execution_count": 21,
   "metadata": {
    "collapsed": false
   },
   "outputs": [
    {
     "name": "stdout",
     "output_type": "stream",
     "text": [
      "Summing up elements\n",
      "\n",
      " Each column\n",
      "[ 0 11 24]\n",
      "\n",
      " Each row\n",
      "[ 7 13 15]\n"
     ]
    }
   ],
   "source": [
    "print \"Summing up elements\"\n",
    "print \"\\n Each column\"\n",
    "print np.sum(C,axis=0)\n",
    "print \"\\n Each row\"\n",
    "print np.sum(C,axis=1)"
   ]
  },
  {
   "cell_type": "code",
   "execution_count": 22,
   "metadata": {
    "collapsed": false
   },
   "outputs": [
    {
     "name": "stdout",
     "output_type": "stream",
     "text": [
      "Mean of elements\n",
      "\n",
      " Each column\n",
      "[ 0.          3.66666667  8.        ]\n",
      "\n",
      " Each row\n",
      "[ 2.33333333  4.33333333  5.        ]\n"
     ]
    }
   ],
   "source": [
    "\n",
    "print \"Mean of elements\"\n",
    "print \"\\n Each column\"\n",
    "print np.mean(C,axis=0)\n",
    "print \"\\n Each row\"\n",
    "print np.mean(C,axis=1)\n"
   ]
  },
  {
   "cell_type": "code",
   "execution_count": 23,
   "metadata": {
    "collapsed": false
   },
   "outputs": [
    {
     "name": "stdout",
     "output_type": "stream",
     "text": [
      "Product of  elements\n",
      "\n",
      " Each column\n",
      "[  0   0 504]\n",
      "\n",
      " Each row\n",
      "[0 0 0]\n"
     ]
    }
   ],
   "source": [
    "print \"Product of  elements\"\n",
    "print \"\\n Each column\"\n",
    "print np.prod(C,axis=0)\n",
    "print \"\\n Each row\"\n",
    "print np.prod(C,axis=1)\n"
   ]
  },
  {
   "cell_type": "markdown",
   "metadata": {},
   "source": [
    "# Finally Theano!"
   ]
  },
  {
   "cell_type": "code",
   "execution_count": 24,
   "metadata": {
    "collapsed": true
   },
   "outputs": [],
   "source": [
    "import theano\n",
    "import theano.tensor as T"
   ]
  },
  {
   "cell_type": "code",
   "execution_count": 25,
   "metadata": {
    "collapsed": true
   },
   "outputs": [],
   "source": [
    "# Create the scalars\n",
    "x = T.scalar()\n",
    "y = T.scalar()\n"
   ]
  },
  {
   "cell_type": "code",
   "execution_count": 26,
   "metadata": {
    "collapsed": false
   },
   "outputs": [
    {
     "name": "stdout",
     "output_type": "stream",
     "text": [
      "Add two numbers\n"
     ]
    },
    {
     "data": {
      "text/plain": [
       "'(<TensorType(float64, scalar)> + <TensorType(float64, scalar)>)'"
      ]
     },
     "execution_count": 26,
     "metadata": {},
     "output_type": "execute_result"
    }
   ],
   "source": [
    "print \"Add two numbers\"\n",
    "temp1 = x + y\n",
    "# So this is how you add two \"Symbolic variables\" \n",
    "\n",
    "addTh = theano.function([x,y],temp1)\n",
    "theano.pp(addTh.maker.fgraph.outputs[0])"
   ]
  },
  {
   "cell_type": "code",
   "execution_count": 27,
   "metadata": {
    "collapsed": false
   },
   "outputs": [
    {
     "name": "stdout",
     "output_type": "stream",
     "text": [
      "3.0\n"
     ]
    }
   ],
   "source": [
    "print addTh(1,2)"
   ]
  },
  {
   "cell_type": "code",
   "execution_count": 28,
   "metadata": {
    "collapsed": false
   },
   "outputs": [
    {
     "name": "stdout",
     "output_type": "stream",
     "text": [
      "Comparing two numbers\n",
      "0\n"
     ]
    }
   ],
   "source": [
    "print \"Comparing two numbers\"\n",
    "\n",
    "temp1 = T.le(x, y)\n",
    "compTh = theano.function([x,y],temp1)\n",
    "\n",
    "theano.pp(compTh.maker.fgraph.outputs[0])\n",
    "print compTh(4,3)"
   ]
  },
  {
   "cell_type": "code",
   "execution_count": 29,
   "metadata": {
    "collapsed": false
   },
   "outputs": [
    {
     "name": "stdout",
     "output_type": "stream",
     "text": [
      "If else operator in Theano\n",
      "\n",
      "le(<TensorType(float64, scalar)>, <TensorType(float64, scalar)>)\n",
      "\n",
      "10.0\n"
     ]
    }
   ],
   "source": [
    "print \"If else operator in Theano\"\n",
    "xgy = T.ge(x,y)\n",
    "res = 2*x*xgy + (1 - xgy)*3*x\n",
    "\n",
    "\n",
    "ifelse = theano.function([x,y],res)\n",
    "print \"\"\n",
    "print theano.pp(compTh.maker.fgraph.outputs[0])\n",
    "print \"\"\n",
    "print ifelse(5,4)"
   ]
  },
  {
   "cell_type": "code",
   "execution_count": 30,
   "metadata": {
    "collapsed": false
   },
   "outputs": [
    {
     "data": {
      "text/plain": [
       "'Elemwise{Composite{log((Composite{sqrt(((i0 + i1) * i0))}(i0, i1) ** exp(Composite{sqrt(((i0 + i1) * i0))}(i0, i1))))}}(<TensorType(float64, scalar)>, <TensorType(float64, scalar)>)'"
      ]
     },
     "execution_count": 30,
     "metadata": {},
     "output_type": "execute_result"
    }
   ],
   "source": [
    "#Create the symbolic graph\n",
    "z = x + y\n",
    "w = z * x\n",
    "a = T.sqrt(w)\n",
    "b = T.exp(a)\n",
    "c = a ** b\n",
    "d = T.log(c)\n",
    "\n",
    "uselessFunc = theano.function([x,y],d)\n",
    "theano.pp(uselessFunc.maker.fgraph.outputs[0])"
   ]
  },
  {
   "cell_type": "code",
   "execution_count": 31,
   "metadata": {
    "collapsed": false
   },
   "outputs": [
    {
     "name": "stdout",
     "output_type": "stream",
     "text": [
      "7.52932798092\n"
     ]
    }
   ],
   "source": [
    "print uselessFunc(1,4)"
   ]
  },
  {
   "cell_type": "markdown",
   "metadata": {},
   "source": [
    "## Where's the vector stuff"
   ]
  },
  {
   "cell_type": "code",
   "execution_count": 32,
   "metadata": {
    "collapsed": false
   },
   "outputs": [],
   "source": [
    "x = T.vector('x')\n",
    "y = T.vector('y')\n",
    "\n",
    "A = np.asarray([1,2,3])\n",
    "B = np.asarray([4,5,6])"
   ]
  },
  {
   "cell_type": "code",
   "execution_count": 33,
   "metadata": {
    "collapsed": false
   },
   "outputs": [
    {
     "name": "stdout",
     "output_type": "stream",
     "text": [
      "Lets do dot product in theano\n",
      "[1 2 3] [4 5 6] 32.0\n",
      "\n",
      "Functions with more than one outputs\n",
      "[array(32.0), array(21.0)]\n",
      "\n",
      " All element wise operations are similar to numpy\n"
     ]
    }
   ],
   "source": [
    "xdoty = T.dot(x,y)\n",
    "xaddy = T.sum(x+y) \n",
    "dotfn = theano.function([x,y], xdoty)\n",
    "print \"Lets do dot product in theano\"\n",
    "print A,B,dotfn(A,B)\n",
    "\n",
    "print \"\\nFunctions with more than one outputs\"\n",
    "dotaddfn = theano.function([x,y], [xdoty,xaddy])\n",
    "\n",
    "print dotaddfn(A,B)\n",
    "print \"\\n All element wise operations are similar to numpy\"\n"
   ]
  },
  {
   "cell_type": "markdown",
   "metadata": {},
   "source": [
    "### The famous logistic function"
   ]
  },
  {
   "cell_type": "code",
   "execution_count": 34,
   "metadata": {
    "collapsed": false
   },
   "outputs": [
    {
     "name": "stdout",
     "output_type": "stream",
     "text": [
      "sigmoid(x)\n"
     ]
    },
    {
     "data": {
      "text/plain": [
       "array([[ 0.5       ,  0.73105858],\n",
       "       [ 0.26894142,  0.11920292]])"
      ]
     },
     "execution_count": 34,
     "metadata": {},
     "output_type": "execute_result"
    }
   ],
   "source": [
    "x = T.matrix('x')\n",
    "s = 1 / (1 + T.exp(-x))\n",
    "logistic = theano.function([x], s)\n",
    "\n",
    "print theano.pp(logistic.maker.fgraph.outputs[0])\n",
    "logistic([[0, 1], [-1, -2]])"
   ]
  },
  {
   "cell_type": "markdown",
   "metadata": {},
   "source": [
    "## The update comes in"
   ]
  },
  {
   "cell_type": "code",
   "execution_count": 35,
   "metadata": {
    "collapsed": false
   },
   "outputs": [],
   "source": [
    "state = theano.shared(0)\n",
    "inc = T.iscalar('inc')\n",
    "\n",
    "#Update the state by incrementing it with inc\n",
    "accumulator = theano.function([inc], state, updates=[(state, state+inc)])"
   ]
  },
  {
   "cell_type": "code",
   "execution_count": 36,
   "metadata": {
    "collapsed": false
   },
   "outputs": [
    {
     "name": "stdout",
     "output_type": "stream",
     "text": [
      "0\n",
      "1\n",
      "3\n",
      "6\n",
      "10\n",
      "15\n",
      "21\n",
      "28\n",
      "36\n",
      "45\n"
     ]
    }
   ],
   "source": [
    "for i in range(0,10):\n",
    "    accumulator(i)\n",
    "    # In order to get the value of the accumulated\n",
    "    print state.get_value()\n",
    "    \n",
    "# We can also set the value of a shared variable\n",
    "state.set_value(0)"
   ]
  },
  {
   "cell_type": "markdown",
   "metadata": {},
   "source": [
    "## As you might have guessed ML is a lot about updating parameters to achieve lowest cost\n",
    "\n",
    "## But then we need to choose what to update it with"
   ]
  },
  {
   "cell_type": "markdown",
   "metadata": {},
   "source": [
    "## Gear up for some magic\n",
    "\n",
    "## Gradient Magic"
   ]
  },
  {
   "cell_type": "code",
   "execution_count": 37,
   "metadata": {
    "collapsed": false
   },
   "outputs": [
    {
     "name": "stdout",
     "output_type": "stream",
     "text": [
      "(TensorConstant{2.0} * a)\n",
      "8.0\n"
     ]
    }
   ],
   "source": [
    "a = T.scalar('a')\n",
    "b = T.sqr(a)\n",
    "c = T.grad(b,a)\n",
    "\n",
    "gradfn = theano.function([a],c)\n",
    "print theano.pp(gradfn.maker.fgraph.outputs[0])\n",
    "\n",
    "print gradfn(4)"
   ]
  },
  {
   "cell_type": "code",
   "execution_count": 38,
   "metadata": {
    "collapsed": false
   },
   "outputs": [
    {
     "name": "stdout",
     "output_type": "stream",
     "text": [
      "cost function = 5.0\n",
      "parameters    = [ 0.8  1.6]\n",
      "cost function = 3.2\n",
      "parameters    = [ 0.64  1.28]\n",
      "cost function = 2.048\n",
      "parameters    = [ 0.512  1.024]\n",
      "cost function = 1.31072\n",
      "parameters    = [ 0.4096  0.8192]\n",
      "cost function = 0.8388608\n",
      "parameters    = [ 0.32768  0.65536]\n",
      "cost function = 0.536870912\n",
      "parameters    = [ 0.262144  0.524288]\n",
      "cost function = 0.34359738368\n",
      "parameters    = [ 0.2097152  0.4194304]\n",
      "cost function = 0.219902325555\n",
      "parameters    = [ 0.16777216  0.33554432]\n",
      "cost function = 0.140737488355\n",
      "parameters    = [ 0.13421773  0.26843546]\n",
      "cost function = 0.0900719925474\n",
      "parameters    = [ 0.10737418  0.21474836]\n"
     ]
    }
   ],
   "source": [
    "B = theano.shared(np.asarray([1.,2.]))\n",
    "R = T.sqr(B).sum()\n",
    "A = T.grad(R, B)\n",
    "\n",
    "Z = theano.function([], R, updates={B: B - .1*A})\n",
    "for i in range(10):\n",
    "    print('cost function = {}'.format(Z()))\n",
    "    print('parameters    = {}'.format(B.get_value()))\n",
    "# Try to change range to 100 to see what happens"
   ]
  }
 ],
 "metadata": {
  "celltoolbar": "Raw Cell Format",
  "kernelspec": {
   "display_name": "Python 2",
   "language": "python",
   "name": "python2"
  },
  "language_info": {
   "codemirror_mode": {
    "name": "ipython",
    "version": 2
   },
   "file_extension": ".py",
   "mimetype": "text/x-python",
   "name": "python",
   "nbconvert_exporter": "python",
   "pygments_lexer": "ipython2",
   "version": "2.7.11"
  }
 },
 "nbformat": 4,
 "nbformat_minor": 0
}
